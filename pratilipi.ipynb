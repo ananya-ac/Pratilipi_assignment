{
 "cells": [
  {
   "cell_type": "code",
   "execution_count": 2,
   "id": "5b79ad40-9ee9-44f8-90bc-d6aba85947ad",
   "metadata": {},
   "outputs": [],
   "source": [
    "import pandas as pd\n",
    "import numpy as np\n"
   ]
  },
  {
   "cell_type": "code",
   "execution_count": 4,
   "id": "0d52cf4b-97e3-4dd7-9338-162b775f7541",
   "metadata": {},
   "outputs": [],
   "source": [
    "data_df=pd.read_csv('data_top_users_1.csv')"
   ]
  },
  {
   "cell_type": "code",
   "execution_count": 2,
   "id": "04f39e05-5334-46d0-9dbf-7f2dd1c65361",
   "metadata": {},
   "outputs": [],
   "source": [
    "from tqdm import tqdm\n"
   ]
  },
  {
   "cell_type": "code",
   "execution_count": 3,
   "id": "38a2f52b-ebef-4541-b2e6-744d8d40f46e",
   "metadata": {},
   "outputs": [],
   "source": [
    "chunks=pd.read_csv('user-interactions.csv', chunksize=1000000)"
   ]
  },
  {
   "cell_type": "code",
   "execution_count": 4,
   "id": "e9a3bf9b-b2b0-4dc0-9a24-733d13cfed33",
   "metadata": {},
   "outputs": [
    {
     "name": "stderr",
     "output_type": "stream",
     "text": [
      "121it [05:40,  2.81s/it]\n"
     ]
    }
   ],
   "source": [
    "#Read in csv in chunks\n",
    "\n",
    "\n",
    "data_df=[]\n",
    "for chunk in tqdm(chunks):\n",
    "    data_df.append(chunk)\n",
    "data_df=pd.concat(data_df)"
   ]
  },
  {
   "cell_type": "code",
   "execution_count": 6,
   "id": "09db73d8-b8f1-47c1-9c94-be9cb634a0e6",
   "metadata": {},
   "outputs": [],
   "source": [
    "#Grouping by user id and aggragating on read_percent count to know how many datapoints correspond with a user reading a book and sorting in descending order\n",
    "\n",
    "user_counts=data_df.groupby('user_id')['read_percent'].count().sort_values(ascending=False)"
   ]
  },
  {
   "cell_type": "code",
   "execution_count": 8,
   "id": "005c7e71-04d7-4e13-bab6-ed763dbd1c6f",
   "metadata": {},
   "outputs": [],
   "source": [
    "#Creating mask for a million datapoints\n",
    "boolean_mask=np.cumsum(user_counts)<1000000"
   ]
  },
  {
   "cell_type": "code",
   "execution_count": 9,
   "id": "3dce1bfd-4e4a-4386-9d71-4951f448f1b7",
   "metadata": {},
   "outputs": [],
   "source": [
    "top_users=user_counts[boolean_mask]\n"
   ]
  },
  {
   "cell_type": "code",
   "execution_count": 10,
   "id": "d30d2650-16f2-46ae-8324-8401a6dcd0e4",
   "metadata": {},
   "outputs": [],
   "source": [
    "data_top=data_df[data_df['user_id'].isin(top_users.index)]"
   ]
  },
  {
   "cell_type": "code",
   "execution_count": 12,
   "id": "7e2c08ea-8552-4003-9b53-fdc4ced084b6",
   "metadata": {},
   "outputs": [
    {
     "data": {
      "text/html": [
       "<div>\n",
       "<style scoped>\n",
       "    .dataframe tbody tr th:only-of-type {\n",
       "        vertical-align: middle;\n",
       "    }\n",
       "\n",
       "    .dataframe tbody tr th {\n",
       "        vertical-align: top;\n",
       "    }\n",
       "\n",
       "    .dataframe thead th {\n",
       "        text-align: right;\n",
       "    }\n",
       "</style>\n",
       "<table border=\"1\" class=\"dataframe\">\n",
       "  <thead>\n",
       "    <tr style=\"text-align: right;\">\n",
       "      <th></th>\n",
       "      <th>user_id</th>\n",
       "      <th>pratilipi_id</th>\n",
       "      <th>read_percent</th>\n",
       "      <th>updated_at</th>\n",
       "    </tr>\n",
       "  </thead>\n",
       "  <tbody>\n",
       "    <tr>\n",
       "      <th>269</th>\n",
       "      <td>5506791953988402</td>\n",
       "      <td>1377786227805897</td>\n",
       "      <td>100.0</td>\n",
       "      <td>2022-03-23 00:06:48.927</td>\n",
       "    </tr>\n",
       "    <tr>\n",
       "      <th>289</th>\n",
       "      <td>5506791953988402</td>\n",
       "      <td>1377786227836741</td>\n",
       "      <td>92.0</td>\n",
       "      <td>2022-03-23 00:06:44.165</td>\n",
       "    </tr>\n",
       "    <tr>\n",
       "      <th>357</th>\n",
       "      <td>5506791955913619</td>\n",
       "      <td>1377786222441036</td>\n",
       "      <td>17.0</td>\n",
       "      <td>2022-03-23 00:06:27.603</td>\n",
       "    </tr>\n",
       "    <tr>\n",
       "      <th>684</th>\n",
       "      <td>5506791953988402</td>\n",
       "      <td>1377786227773852</td>\n",
       "      <td>100.0</td>\n",
       "      <td>2022-03-23 00:04:59.652</td>\n",
       "    </tr>\n",
       "    <tr>\n",
       "      <th>770</th>\n",
       "      <td>5506791953906904</td>\n",
       "      <td>1377786223237230</td>\n",
       "      <td>100.0</td>\n",
       "      <td>2022-03-23 00:04:32.069</td>\n",
       "    </tr>\n",
       "    <tr>\n",
       "      <th>...</th>\n",
       "      <td>...</td>\n",
       "      <td>...</td>\n",
       "      <td>...</td>\n",
       "      <td>...</td>\n",
       "    </tr>\n",
       "    <tr>\n",
       "      <th>120404870</th>\n",
       "      <td>5506791961037165</td>\n",
       "      <td>1377786226466869</td>\n",
       "      <td>100.0</td>\n",
       "      <td>2022-01-21 00:01:57.359</td>\n",
       "    </tr>\n",
       "    <tr>\n",
       "      <th>120404917</th>\n",
       "      <td>5506791961037165</td>\n",
       "      <td>1377786224983554</td>\n",
       "      <td>100.0</td>\n",
       "      <td>2022-01-21 00:01:45.545</td>\n",
       "    </tr>\n",
       "    <tr>\n",
       "      <th>120405036</th>\n",
       "      <td>5506791961037165</td>\n",
       "      <td>1377786227311277</td>\n",
       "      <td>100.0</td>\n",
       "      <td>2022-01-21 00:01:17.408</td>\n",
       "    </tr>\n",
       "    <tr>\n",
       "      <th>120405133</th>\n",
       "      <td>5506791949627388</td>\n",
       "      <td>1377786221901035</td>\n",
       "      <td>13.0</td>\n",
       "      <td>2022-01-21 00:00:56.871</td>\n",
       "    </tr>\n",
       "    <tr>\n",
       "      <th>120405246</th>\n",
       "      <td>5506791978253570</td>\n",
       "      <td>1377786224752205</td>\n",
       "      <td>100.0</td>\n",
       "      <td>2022-01-21 00:00:32.030</td>\n",
       "    </tr>\n",
       "  </tbody>\n",
       "</table>\n",
       "<p>993817 rows × 4 columns</p>\n",
       "</div>"
      ],
      "text/plain": [
       "                    user_id      pratilipi_id  read_percent  \\\n",
       "269        5506791953988402  1377786227805897         100.0   \n",
       "289        5506791953988402  1377786227836741          92.0   \n",
       "357        5506791955913619  1377786222441036          17.0   \n",
       "684        5506791953988402  1377786227773852         100.0   \n",
       "770        5506791953906904  1377786223237230         100.0   \n",
       "...                     ...               ...           ...   \n",
       "120404870  5506791961037165  1377786226466869         100.0   \n",
       "120404917  5506791961037165  1377786224983554         100.0   \n",
       "120405036  5506791961037165  1377786227311277         100.0   \n",
       "120405133  5506791949627388  1377786221901035          13.0   \n",
       "120405246  5506791978253570  1377786224752205         100.0   \n",
       "\n",
       "                        updated_at  \n",
       "269        2022-03-23 00:06:48.927  \n",
       "289        2022-03-23 00:06:44.165  \n",
       "357        2022-03-23 00:06:27.603  \n",
       "684        2022-03-23 00:04:59.652  \n",
       "770        2022-03-23 00:04:32.069  \n",
       "...                            ...  \n",
       "120404870  2022-01-21 00:01:57.359  \n",
       "120404917  2022-01-21 00:01:45.545  \n",
       "120405036  2022-01-21 00:01:17.408  \n",
       "120405133  2022-01-21 00:00:56.871  \n",
       "120405246  2022-01-21 00:00:32.030  \n",
       "\n",
       "[993817 rows x 4 columns]"
      ]
     },
     "execution_count": 12,
     "metadata": {},
     "output_type": "execute_result"
    }
   ],
   "source": [
    "data_top"
   ]
  },
  {
   "cell_type": "code",
   "execution_count": 18,
   "id": "310c6e28-a659-4493-a0d2-5e9499fc671c",
   "metadata": {},
   "outputs": [
    {
     "data": {
      "text/plain": [
       "100.000000    858301\n",
       "99.000000      13549\n",
       "50.000000       6274\n",
       "10.000000       5935\n",
       "25.000000       5142\n",
       "               ...  \n",
       "6.666667           1\n",
       "81.818182          1\n",
       "36.363636          1\n",
       "7.142857           1\n",
       "5.555556           1\n",
       "Name: read_percent, Length: 136, dtype: int64"
      ]
     },
     "execution_count": 18,
     "metadata": {},
     "output_type": "execute_result"
    }
   ],
   "source": [
    "data_top['read_percent'].value_counts()"
   ]
  },
  {
   "cell_type": "code",
   "execution_count": 13,
   "id": "9faece1b-cb0d-419b-8026-c889d9203596",
   "metadata": {
    "collapsed": true,
    "jupyter": {
     "outputs_hidden": true
    },
    "tags": []
   },
   "outputs": [
    {
     "name": "stderr",
     "output_type": "stream",
     "text": [
      "C:\\Users\\Administrator\\AppData\\Local\\Temp\\ipykernel_10200\\2926370219.py:1: SettingWithCopyWarning: \n",
      "A value is trying to be set on a copy of a slice from a DataFrame\n",
      "\n",
      "See the caveats in the documentation: https://pandas.pydata.org/pandas-docs/stable/user_guide/indexing.html#returning-a-view-versus-a-copy\n",
      "  data_top.drop_duplicates(['user_id','pratilipi_id'],keep='first',inplace=True)\n"
     ]
    }
   ],
   "source": [
    "#dropping duplicates to ensure only one instance of (user_id,pratilip_id) occurs to prevent inconsistency\n",
    "data_top.drop_duplicates(['user_id','pratilipi_id'],keep='first',inplace=True)"
   ]
  },
  {
   "cell_type": "code",
   "execution_count": 15,
   "id": "aec0453c-4c6d-43aa-84bc-5d3aedc12bbc",
   "metadata": {
    "collapsed": true,
    "jupyter": {
     "outputs_hidden": true
    },
    "tags": []
   },
   "outputs": [
    {
     "name": "stderr",
     "output_type": "stream",
     "text": [
      "C:\\Users\\Administrator\\AppData\\Local\\Temp\\ipykernel_10200\\141040514.py:1: SettingWithCopyWarning: \n",
      "A value is trying to be set on a copy of a slice from a DataFrame.\n",
      "Try using .loc[row_indexer,col_indexer] = value instead\n",
      "\n",
      "See the caveats in the documentation: https://pandas.pydata.org/pandas-docs/stable/user_guide/indexing.html#returning-a-view-versus-a-copy\n",
      "  data_top['updated_at']=pd.to_datetime(data_top['updated_at'])\n"
     ]
    }
   ],
   "source": [
    "\n",
    "data_top['updated_at']=pd.to_datetime(data_top['updated_at'])"
   ]
  },
  {
   "cell_type": "code",
   "execution_count": 16,
   "id": "9ae32cf9-2951-40e0-b3d6-9bade9fc133a",
   "metadata": {
    "collapsed": true,
    "jupyter": {
     "outputs_hidden": true
    },
    "tags": []
   },
   "outputs": [
    {
     "name": "stderr",
     "output_type": "stream",
     "text": [
      "C:\\Users\\Administrator\\AppData\\Local\\Temp\\ipykernel_10200\\352041338.py:1: SettingWithCopyWarning: \n",
      "A value is trying to be set on a copy of a slice from a DataFrame\n",
      "\n",
      "See the caveats in the documentation: https://pandas.pydata.org/pandas-docs/stable/user_guide/indexing.html#returning-a-view-versus-a-copy\n",
      "  data_top.sort_values('updated_at',inplace=True)\n"
     ]
    }
   ],
   "source": [
    "data_top.sort_values('updated_at',inplace=True)"
   ]
  },
  {
   "cell_type": "code",
   "execution_count": 17,
   "id": "9cd49bb8-733c-46ff-b184-47857aa8c391",
   "metadata": {},
   "outputs": [],
   "source": [
    "data_top.to_csv('data_top_users_1.csv')"
   ]
  },
  {
   "cell_type": "code",
   "execution_count": 1,
   "id": "302fc2b8-8f7e-4b0e-b71d-928d1344284a",
   "metadata": {
    "collapsed": true,
    "jupyter": {
     "outputs_hidden": true
    },
    "tags": []
   },
   "outputs": [
    {
     "ename": "NameError",
     "evalue": "name 'pd' is not defined",
     "output_type": "error",
     "traceback": [
      "\u001b[1;31m---------------------------------------------------------------------------\u001b[0m",
      "\u001b[1;31mNameError\u001b[0m                                 Traceback (most recent call last)",
      "Input \u001b[1;32mIn [1]\u001b[0m, in \u001b[0;36m<cell line: 1>\u001b[1;34m()\u001b[0m\n\u001b[1;32m----> 1\u001b[0m data_df\u001b[38;5;241m=\u001b[39m\u001b[43mpd\u001b[49m\u001b[38;5;241m.\u001b[39mread_csv(\u001b[38;5;124m'\u001b[39m\u001b[38;5;124mdata_top_users_1.csv\u001b[39m\u001b[38;5;124m'\u001b[39m)\n",
      "\u001b[1;31mNameError\u001b[0m: name 'pd' is not defined"
     ]
    }
   ],
   "source": [
    "data_df=pd.read_csv('data_top_users_1.csv')"
   ]
  },
  {
   "cell_type": "code",
   "execution_count": 3,
   "id": "97b18730-b2d9-45b9-be3a-49c7687c9220",
   "metadata": {},
   "outputs": [],
   "source": [
    "import surprise\n",
    "from surprise import Reader, Dataset"
   ]
  },
  {
   "cell_type": "code",
   "execution_count": 4,
   "id": "f419767d-9d21-4e21-b218-a75c2b0541b5",
   "metadata": {
    "collapsed": true,
    "jupyter": {
     "outputs_hidden": true
    },
    "tags": []
   },
   "outputs": [
    {
     "ename": "NameError",
     "evalue": "name 'data_df' is not defined",
     "output_type": "error",
     "traceback": [
      "\u001b[1;31m---------------------------------------------------------------------------\u001b[0m",
      "\u001b[1;31mNameError\u001b[0m                                 Traceback (most recent call last)",
      "Input \u001b[1;32mIn [4]\u001b[0m, in \u001b[0;36m<cell line: 4>\u001b[1;34m()\u001b[0m\n\u001b[0;32m      1\u001b[0m reader \u001b[38;5;241m=\u001b[39m Reader(rating_scale\u001b[38;5;241m=\u001b[39m(\u001b[38;5;241m0\u001b[39m, \u001b[38;5;241m100\u001b[39m))\n\u001b[0;32m      3\u001b[0m \u001b[38;5;66;03m# The columns must correspond to user id, item id and ratings (in that order).\u001b[39;00m\n\u001b[1;32m----> 4\u001b[0m data \u001b[38;5;241m=\u001b[39m Dataset\u001b[38;5;241m.\u001b[39mload_from_df(\u001b[43mdata_df\u001b[49m[[\u001b[38;5;124m'\u001b[39m\u001b[38;5;124muser_id\u001b[39m\u001b[38;5;124m'\u001b[39m, \u001b[38;5;124m'\u001b[39m\u001b[38;5;124mpratilipi_id\u001b[39m\u001b[38;5;124m'\u001b[39m, \u001b[38;5;124m'\u001b[39m\u001b[38;5;124mread_percent\u001b[39m\u001b[38;5;124m'\u001b[39m]], reader)\n",
      "\u001b[1;31mNameError\u001b[0m: name 'data_df' is not defined"
     ]
    }
   ],
   "source": [
    "reader = Reader(rating_scale=(0, 100))\n",
    "\n",
    "# The columns must correspond to user id, item id and ratings (in that order).\n",
    "data = Dataset.load_from_df(data_df[['user_id', 'pratilipi_id', 'read_percent']], reader)"
   ]
  },
  {
   "cell_type": "code",
   "execution_count": null,
   "id": "05e174cb-31e8-43a7-bc94-c812312ec6b4",
   "metadata": {},
   "outputs": [],
   "source": [
    "dataset=data.build_full_trainset()"
   ]
  },
  {
   "cell_type": "code",
   "execution_count": null,
   "id": "d2919776-1a92-4968-9031-668eaa2a5e91",
   "metadata": {},
   "outputs": [],
   "source": [
    "from surprise import SVD #evaluate\n",
    "\n",
    "##TODO use other alogorthms like non-negative matrix factorization\n",
    "#from surprise import NMF\n",
    "\n",
    "# svd\n",
    "algo = SVD()\n",
    "\n",
    "##TODO cross validation\n",
    "#evaluate(algo, data, measures=['RMSE'])\n",
    "\n"
   ]
  },
  {
   "cell_type": "code",
   "execution_count": null,
   "id": "db9d4a03-5abd-457d-b3dd-592a7f7378e0",
   "metadata": {},
   "outputs": [],
   "source": [
    "fit_dataset=algo.fit(dataset)"
   ]
  },
  {
   "cell_type": "code",
   "execution_count": null,
   "id": "40ab5294-898d-465c-90c8-00e61ef495a7",
   "metadata": {},
   "outputs": [],
   "source": [
    "## Run Inference\n",
    "recos={}\n",
    "for uid in tqdm(data_df['user_id'].unique()):\n",
    "    not_read=(data_df['pratilipi_id'][data_df['user_id']!=uid]).unique()\n",
    "    preds=[]\n",
    "    \n",
    "    for story in not_read:\n",
    "        prediction=fit_dataset.predict(uid,story)\n",
    "        preds.append(prediction)\n",
    "    recos[uid]=preds"
   ]
  },
  {
   "cell_type": "code",
   "execution_count": null,
   "id": "dcf33d86-66e4-47e8-aab6-6fb78ce455fd",
   "metadata": {},
   "outputs": [],
   "source": [
    "## output top 5 predictions sorted by estimated reading completion\n",
    "out={uid:sorted(reco,key=lambda x:x[3])[:5] for uid,reco in recos.items()}\n",
    "out={uid:[rec[1] for rec in reco] for uid,reco in out.items()}"
   ]
  },
  {
   "cell_type": "code",
   "execution_count": null,
   "id": "09a5aadd-b979-49fb-a01f-8251ba121ee0",
   "metadata": {},
   "outputs": [],
   "source": [
    "pd.DataFrame(out).transpose().to_csv('pratilipi_top_recommendations.csv')"
   ]
  }
 ],
 "metadata": {
  "kernelspec": {
   "display_name": "Python 3 (ipykernel)",
   "language": "python",
   "name": "python3"
  },
  "language_info": {
   "codemirror_mode": {
    "name": "ipython",
    "version": 3
   },
   "file_extension": ".py",
   "mimetype": "text/x-python",
   "name": "python",
   "nbconvert_exporter": "python",
   "pygments_lexer": "ipython3",
   "version": "3.9.12"
  }
 },
 "nbformat": 4,
 "nbformat_minor": 5
}
